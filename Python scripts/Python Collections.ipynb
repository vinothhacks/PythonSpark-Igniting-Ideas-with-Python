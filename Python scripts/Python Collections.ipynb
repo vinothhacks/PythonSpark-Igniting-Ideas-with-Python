{
 "cells": [
  {
   "cell_type": "code",
   "execution_count": null,
   "id": "c8bb9a3c",
   "metadata": {},
   "outputs": [],
   "source": [
    "#Program to Find the Largest Number in a List:\n",
    "listt=[]\n",
    "n=int(input(\"enter the size\"))\n",
    "for i in range(n):\n",
    "    numbers=int(input(\"enter the numbers\"))\n",
    "    listt.append(numbers)\n",
    "print(listt)\n",
    "print(max(listt))\n",
    "    "
   ]
  },
  {
   "cell_type": "code",
   "execution_count": null,
   "id": "8bcd71a5",
   "metadata": {},
   "outputs": [],
   "source": [
    "maxx=0\n",
    "for i in range(n):\n",
    "    if maxx<listt[i]:\n",
    "        maxx=listt[i]\n",
    "print(maxx)        "
   ]
  },
  {
   "cell_type": "code",
   "execution_count": null,
   "id": "06ed15ad",
   "metadata": {},
   "outputs": [],
   "source": [
    "#Program to Put Even and Odd elements in a List into Two Different Lists:\n",
    "listt=[3,4,5,6,7]\n",
    "oddlist=[]\n",
    "evenlist=[]\n",
    "for i in listt:\n",
    "    if i%2==0:\n",
    "        evenlist.append(i)\n",
    "    else:\n",
    "        oddlist.append(i)\n",
    "print(evenlist)\n",
    "print(oddlist)"
   ]
  },
  {
   "cell_type": "code",
   "execution_count": null,
   "id": "36705795",
   "metadata": {},
   "outputs": [],
   "source": [
    "# Program to Read a List of Words and Return the Length of the Longest\n",
    "# One:\n",
    "maxx=0\n",
    "listt=[\"one\",\"twooo\",\"threeee\",\"g\"]\n",
    "for i in range(len(listt)):\n",
    "    if len(listt[i])>maxx:\n",
    "        maxx=len(listt[i])\n",
    "        \n",
    "print(maxx)        "
   ]
  },
  {
   "cell_type": "code",
   "execution_count": null,
   "id": "77d9237c",
   "metadata": {},
   "outputs": [],
   "source": [
    "# Create a List of Tuples with the First Element as the Number and Second\n",
    "# Element as the Square of the Number:\n",
    "import math\n",
    "listt=[2,3,4,5,6,7]\n",
    "tuplelist=[]\n",
    "for i in listt:\n",
    "    sqr=i*i\n",
    "    tuplelist.append(sqr)\n",
    "print(tuple(listt))\n",
    "print(tuple(tuplelist))"
   ]
  },
  {
   "cell_type": "code",
   "execution_count": null,
   "id": "ebf7d20e",
   "metadata": {},
   "outputs": [],
   "source": [
    "#Program to Remove the Duplicate Items from a List:\n",
    "listt=[2,3,4,5,6,7,7,5,5]\n",
    "print(list(set(listt)))"
   ]
  },
  {
   "cell_type": "code",
   "execution_count": 15,
   "id": "53d67da6",
   "metadata": {},
   "outputs": [
    {
     "name": "stdout",
     "output_type": "stream",
     "text": [
      "ascending order\n"
     ]
    }
   ],
   "source": [
    "# WAP to check if this tuple (20, 20, 30, 30, 30, 40, 40, 40, 10) is in\n",
    "# ascending/ descending or in random order without inbuilt function.\n",
    "ascend=False\n",
    "descend=False\n",
    "random=False\n",
    "\n",
    "tuples=list([20, 20, 30, 30, 30, 40, 40])\n",
    "lens=len(tuples)\n",
    "for i in range(1,lens):\n",
    "    if tuples[i-1]<=tuples[i]:\n",
    "        continue\n",
    "    else:\n",
    "        ascend=True\n",
    "for i in range(1,lens):         \n",
    "    if tuples[i-1]>=tuples[i]:\n",
    "        continue\n",
    "    else:\n",
    "        descend=True\n",
    "if ascend==False:\n",
    "    print(\"ascending order\")\n",
    "elif descend==False:\n",
    "    print(\"descending order\")\n",
    "else:\n",
    "    print(\"random order\")\n",
    "        "
   ]
  },
  {
   "cell_type": "code",
   "execution_count": 19,
   "id": "78e99d3a",
   "metadata": {},
   "outputs": [
    {
     "name": "stdout",
     "output_type": "stream",
     "text": [
      "not present\n"
     ]
    }
   ],
   "source": [
    "#Program to Check if a Given Key Exists in a Dictionary or Not:\n",
    "dictt={'a':1,'b':2,'c':3,'d':4}\n",
    "given='e'\n",
    "if given in dictt:\n",
    "    print(\"present\")\n",
    "else:\n",
    "    print(\"not present\")\n",
    "    "
   ]
  },
  {
   "cell_type": "code",
   "execution_count": 23,
   "id": "5109260b",
   "metadata": {},
   "outputs": [
    {
     "name": "stdout",
     "output_type": "stream",
     "text": [
      "10\n"
     ]
    }
   ],
   "source": [
    "#Program to Sum All the Items in a Dictionary:\n",
    "dictt={'a':1,'b':2,'c':3,'d':4}\n",
    "summ=0\n",
    "for k,v in(dictt.items()):\n",
    "    summ+=v\n",
    "print(summ)    "
   ]
  },
  {
   "cell_type": "code",
   "execution_count": 36,
   "id": "23806520",
   "metadata": {},
   "outputs": [
    {
     "name": "stdout",
     "output_type": "stream",
     "text": [
      "2\n"
     ]
    },
    {
     "data": {
      "text/plain": [
       "{'a': 1, 'c': 3, 'd': 4}"
      ]
     },
     "execution_count": 36,
     "metadata": {},
     "output_type": "execute_result"
    }
   ],
   "source": [
    "#Program to Remove the Given Key from a Dictionary:\n",
    "dictt={'a':1,'b':2,'c':3,'d':4}\n",
    "given={'b'}\n",
    "for key in given:\n",
    "    print(dictt.pop(key))\n",
    "dictt    "
   ]
  },
  {
   "cell_type": "code",
   "execution_count": 45,
   "id": "05c2084c",
   "metadata": {},
   "outputs": [
    {
     "name": "stdout",
     "output_type": "stream",
     "text": [
      "[('b', 9), ('c', 3), ('d', 4), ('e', 5)]\n"
     ]
    }
   ],
   "source": [
    "#Write a Python program to sort a dictionary by key:\n",
    "dictt={'e':5,'b':9,'c':3,'d':4}\n",
    "print(sorted(dictt.items()))\n",
    "    \n",
    "    "
   ]
  },
  {
   "cell_type": "code",
   "execution_count": 46,
   "id": "37a1421e",
   "metadata": {},
   "outputs": [
    {
     "name": "stdout",
     "output_type": "stream",
     "text": [
      "6\n"
     ]
    }
   ],
   "source": [
    "# Python Program to Count the Number of Vowels Present in a String\n",
    "# using Sets:\n",
    "strings=\"hloo hiiii\"\n",
    "vowels=set('aeiou')\n",
    "c=0\n",
    "for given in strings:\n",
    "    if given in vowels:\n",
    "        c+=1\n",
    "print(c)        "
   ]
  },
  {
   "cell_type": "code",
   "execution_count": 64,
   "id": "16ccaaa5",
   "metadata": {},
   "outputs": [
    {
     "name": "stdout",
     "output_type": "stream",
     "text": [
      "l\n",
      "o\n",
      " \n",
      "h\n"
     ]
    }
   ],
   "source": [
    "#Python Program to Check Common Letters in Two Input Strings:\n",
    "string1=set(\"h j i k ol \")\n",
    "string2=set(\"hloo not theree1\")\n",
    "a=list(set(string1)&set(string2))\n",
    "for i in a:\n",
    "    print(i)"
   ]
  },
  {
   "cell_type": "code",
   "execution_count": 66,
   "id": "52755df9",
   "metadata": {},
   "outputs": [
    {
     "name": "stdout",
     "output_type": "stream",
     "text": [
      "i\n",
      "k\n",
      "j\n"
     ]
    }
   ],
   "source": [
    "# Python Program that displays which Letters are in the First String but not\n",
    "# in the Second:\n",
    "string1=set(\"h j i k ol \")\n",
    "string2=set(\"hloo not theree1\")\n",
    "a=list(set(string1).difference(set(string2)))\n",
    "for i in a:\n",
    "    print(i)"
   ]
  },
  {
   "cell_type": "code",
   "execution_count": 68,
   "id": "d7721d2a",
   "metadata": {},
   "outputs": [
    {
     "name": "stdout",
     "output_type": "stream",
     "text": [
      "k\n",
      "o\n",
      "n\n",
      "h\n",
      "r\n",
      "l\n",
      "i\n",
      "e\n",
      " \n",
      "1\n",
      "j\n",
      "t\n"
     ]
    }
   ],
   "source": [
    "#Python Program that displays which Letters are Present in Both the\n",
    "#Strings:\n",
    "string1=set(\"h j i k ol \")\n",
    "string2=set(\"hloo not theree1\")\n",
    "a=list(set(string1).union(set(string2)))\n",
    "for i in a:\n",
    "    print(i)"
   ]
  },
  {
   "cell_type": "code",
   "execution_count": 69,
   "id": "4d83bc83",
   "metadata": {},
   "outputs": [
    {
     "name": "stdout",
     "output_type": "stream",
     "text": [
      "l\n",
      "o\n",
      " \n",
      "h\n"
     ]
    }
   ],
   "source": [
    "# Python Program that displays which Letters are in the Two Strings but\n",
    "# not in both:\n",
    "string1=set(\"h j i k ol \")\n",
    "string2=set(\"hloo not theree1\")\n",
    "a=list(set(string1).intersection(set(string2)))\n",
    "for i in a:\n",
    "    print(i)"
   ]
  },
  {
   "cell_type": "code",
   "execution_count": null,
   "id": "68ae74ad",
   "metadata": {},
   "outputs": [],
   "source": []
  }
 ],
 "metadata": {
  "kernelspec": {
   "display_name": "Python 3 (ipykernel)",
   "language": "python",
   "name": "python3"
  },
  "language_info": {
   "codemirror_mode": {
    "name": "ipython",
    "version": 3
   },
   "file_extension": ".py",
   "mimetype": "text/x-python",
   "name": "python",
   "nbconvert_exporter": "python",
   "pygments_lexer": "ipython3",
   "version": "3.11.5"
  }
 },
 "nbformat": 4,
 "nbformat_minor": 5
}
