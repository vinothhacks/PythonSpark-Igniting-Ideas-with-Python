{
 "cells": [
  {
   "cell_type": "code",
   "execution_count": 1,
   "id": "1fb40a0c",
   "metadata": {},
   "outputs": [
    {
     "name": "stdout",
     "output_type": "stream",
     "text": [
      "10998824\n",
      "1.3456\n",
      "helooo\n",
      "(3+2j)\n",
      "True\n"
     ]
    }
   ],
   "source": [
    "#TYPECASTING \n",
    "\n",
    "a=10998824\n",
    "b=1.3456\n",
    "c=\"helooo\"\n",
    "d=3+2j\n",
    "e=True\n",
    "\n",
    "print(a)\n",
    "print(b)\n",
    "print(c)\n",
    "print(d)\n",
    "print(e)\n"
   ]
  },
  {
   "cell_type": "code",
   "execution_count": 2,
   "id": "6e40ac32",
   "metadata": {},
   "outputs": [
    {
     "name": "stdout",
     "output_type": "stream",
     "text": [
      "<class 'int'>\n",
      "<class 'float'>\n",
      "<class 'str'>\n",
      "<class 'complex'>\n",
      "<class 'bool'>\n"
     ]
    }
   ],
   "source": [
    "print(type(a))\n",
    "print(type(b))\n",
    "print(type(c))\n",
    "print(type(d))\n",
    "print(type(e))"
   ]
  },
  {
   "cell_type": "code",
   "execution_count": null,
   "id": "90adea03",
   "metadata": {},
   "outputs": [],
   "source": [
    "#STRING \n",
    "#IS INDEXABLE, IMMUABLE, CONCATENATION"
   ]
  },
  {
   "cell_type": "code",
   "execution_count": 4,
   "id": "21e26435",
   "metadata": {},
   "outputs": [
    {
     "data": {
      "text/plain": [
       "'vinoth nagarajan'"
      ]
     },
     "execution_count": 4,
     "metadata": {},
     "output_type": "execute_result"
    }
   ],
   "source": [
    "string= \"vinoth nagarajan\"\n",
    "string"
   ]
  },
  {
   "cell_type": "code",
   "execution_count": 5,
   "id": "aa18ee46",
   "metadata": {},
   "outputs": [
    {
     "data": {
      "text/plain": [
       "'h'"
      ]
     },
     "execution_count": 5,
     "metadata": {},
     "output_type": "execute_result"
    }
   ],
   "source": [
    "string[5]"
   ]
  },
  {
   "cell_type": "code",
   "execution_count": 6,
   "id": "c3bc5a20",
   "metadata": {},
   "outputs": [
    {
     "data": {
      "text/plain": [
       "'n'"
      ]
     },
     "execution_count": 6,
     "metadata": {},
     "output_type": "execute_result"
    }
   ],
   "source": [
    "string[7]"
   ]
  },
  {
   "cell_type": "code",
   "execution_count": 7,
   "id": "9a606186",
   "metadata": {},
   "outputs": [
    {
     "data": {
      "text/plain": [
       "16"
      ]
     },
     "execution_count": 7,
     "metadata": {},
     "output_type": "execute_result"
    }
   ],
   "source": [
    "len(string)"
   ]
  },
  {
   "cell_type": "code",
   "execution_count": 8,
   "id": "2c95a165",
   "metadata": {},
   "outputs": [
    {
     "data": {
      "text/plain": [
       "'n'"
      ]
     },
     "execution_count": 8,
     "metadata": {},
     "output_type": "execute_result"
    }
   ],
   "source": [
    "string[-1]"
   ]
  },
  {
   "cell_type": "code",
   "execution_count": 9,
   "id": "0718af9a",
   "metadata": {},
   "outputs": [
    {
     "data": {
      "text/plain": [
       "'n'"
      ]
     },
     "execution_count": 9,
     "metadata": {},
     "output_type": "execute_result"
    }
   ],
   "source": [
    "string[len(string)-1]"
   ]
  },
  {
   "cell_type": "code",
   "execution_count": 11,
   "id": "d197484b",
   "metadata": {},
   "outputs": [
    {
     "data": {
      "text/plain": [
       "'vinoth'"
      ]
     },
     "execution_count": 11,
     "metadata": {},
     "output_type": "execute_result"
    }
   ],
   "source": [
    "string[0:6]"
   ]
  },
  {
   "cell_type": "code",
   "execution_count": 14,
   "id": "180ba8fd",
   "metadata": {},
   "outputs": [
    {
     "data": {
      "text/plain": [
       "'nagaraja'"
      ]
     },
     "execution_count": 14,
     "metadata": {},
     "output_type": "execute_result"
    }
   ],
   "source": [
    "string[7:-1]"
   ]
  },
  {
   "cell_type": "code",
   "execution_count": 15,
   "id": "14bf0c8e",
   "metadata": {},
   "outputs": [
    {
     "data": {
      "text/plain": [
       "'nagarajan'"
      ]
     },
     "execution_count": 15,
     "metadata": {},
     "output_type": "execute_result"
    }
   ],
   "source": [
    "string[7:]"
   ]
  },
  {
   "cell_type": "code",
   "execution_count": 18,
   "id": "9abf5b5a",
   "metadata": {},
   "outputs": [
    {
     "data": {
      "text/plain": [
       "'vi#oth #agaraja#'"
      ]
     },
     "execution_count": 18,
     "metadata": {},
     "output_type": "execute_result"
    }
   ],
   "source": [
    "string.replace('n','#')"
   ]
  },
  {
   "cell_type": "code",
   "execution_count": 19,
   "id": "4d4c73fa",
   "metadata": {},
   "outputs": [
    {
     "data": {
      "text/plain": [
       "'vinoth n@g@rajan'"
      ]
     },
     "execution_count": 19,
     "metadata": {},
     "output_type": "execute_result"
    }
   ],
   "source": [
    "string.replace('a','@',2)  #2 represent how many time u want to replace eg. 0 mean no change, 1 means one time, 2 means two times"
   ]
  },
  {
   "cell_type": "code",
   "execution_count": 20,
   "id": "4dca6253",
   "metadata": {},
   "outputs": [
    {
     "name": "stdout",
     "output_type": "stream",
     "text": [
      "pp g k f\n"
     ]
    }
   ],
   "source": [
    "print(\" \".join(['pp','g','k','f']))"
   ]
  },
  {
   "cell_type": "code",
   "execution_count": 21,
   "id": "4f6b0cb4",
   "metadata": {},
   "outputs": [
    {
     "name": "stdout",
     "output_type": "stream",
     "text": [
      "pp#g#k#f\n"
     ]
    }
   ],
   "source": [
    "print(\"#\".join(['pp','g','k','f']))"
   ]
  },
  {
   "cell_type": "code",
   "execution_count": 23,
   "id": "08a380c1",
   "metadata": {},
   "outputs": [
    {
     "data": {
      "text/plain": [
       "8"
      ]
     },
     "execution_count": 23,
     "metadata": {},
     "output_type": "execute_result"
    }
   ],
   "source": [
    "string.index('a')"
   ]
  },
  {
   "cell_type": "code",
   "execution_count": 25,
   "id": "6765f712",
   "metadata": {},
   "outputs": [
    {
     "data": {
      "text/plain": [
       "2"
      ]
     },
     "execution_count": 25,
     "metadata": {},
     "output_type": "execute_result"
    }
   ],
   "source": [
    "string.index('n')"
   ]
  },
  {
   "cell_type": "code",
   "execution_count": 31,
   "id": "b377fa1d",
   "metadata": {},
   "outputs": [
    {
     "data": {
      "text/plain": [
       "2"
      ]
     },
     "execution_count": 31,
     "metadata": {},
     "output_type": "execute_result"
    }
   ],
   "source": [
    "string.index('e',2)"
   ]
  },
  {
   "cell_type": "code",
   "execution_count": 26,
   "id": "954642f5",
   "metadata": {},
   "outputs": [
    {
     "data": {
      "text/plain": [
       "4"
      ]
     },
     "execution_count": 26,
     "metadata": {},
     "output_type": "execute_result"
    }
   ],
   "source": [
    "string.count('a')"
   ]
  },
  {
   "cell_type": "code",
   "execution_count": 27,
   "id": "b81269ec",
   "metadata": {},
   "outputs": [
    {
     "data": {
      "text/plain": [
       "4"
      ]
     },
     "execution_count": 27,
     "metadata": {},
     "output_type": "execute_result"
    }
   ],
   "source": [
    "string.count('a')"
   ]
  },
  {
   "cell_type": "code",
   "execution_count": 28,
   "id": "2a242fa4",
   "metadata": {},
   "outputs": [
    {
     "data": {
      "text/plain": [
       "False"
      ]
     },
     "execution_count": 28,
     "metadata": {},
     "output_type": "execute_result"
    }
   ],
   "source": [
    "string.isdigit()"
   ]
  },
  {
   "cell_type": "code",
   "execution_count": 29,
   "id": "f1ff5aee",
   "metadata": {},
   "outputs": [
    {
     "data": {
      "text/plain": [
       "True"
      ]
     },
     "execution_count": 29,
     "metadata": {},
     "output_type": "execute_result"
    }
   ],
   "source": [
    "strin=\"12345\"\n",
    "strin.isdigit()"
   ]
  },
  {
   "cell_type": "code",
   "execution_count": 35,
   "id": "a4502531",
   "metadata": {},
   "outputs": [
    {
     "data": {
      "text/plain": [
       "False"
      ]
     },
     "execution_count": 35,
     "metadata": {},
     "output_type": "execute_result"
    }
   ],
   "source": [
    "strin=\"adbc1234\"\n",
    "strin.isdigit()"
   ]
  },
  {
   "cell_type": "code",
   "execution_count": 31,
   "id": "1cdaae87",
   "metadata": {},
   "outputs": [
    {
     "data": {
      "text/plain": [
       "True"
      ]
     },
     "execution_count": 31,
     "metadata": {},
     "output_type": "execute_result"
    }
   ],
   "source": [
    "strin.isalnum()"
   ]
  },
  {
   "cell_type": "code",
   "execution_count": 33,
   "id": "aa3ad9da",
   "metadata": {},
   "outputs": [
    {
     "data": {
      "text/plain": [
       "True"
      ]
     },
     "execution_count": 33,
     "metadata": {},
     "output_type": "execute_result"
    }
   ],
   "source": [
    "hello=\"1234\"\n",
    "hello.isalnum()"
   ]
  },
  {
   "cell_type": "code",
   "execution_count": 34,
   "id": "d124433a",
   "metadata": {},
   "outputs": [
    {
     "data": {
      "text/plain": [
       "False"
      ]
     },
     "execution_count": 34,
     "metadata": {},
     "output_type": "execute_result"
    }
   ],
   "source": [
    "check=\"p k 9\"\n",
    "check.isalnum() #isalnum is the combination of alphabet and numeric value no white space or special characters should be present"
   ]
  },
  {
   "cell_type": "code",
   "execution_count": 36,
   "id": "2a1c5fe9",
   "metadata": {},
   "outputs": [
    {
     "data": {
      "text/plain": [
       "'vinoth nagarajanadbc1234'"
      ]
     },
     "execution_count": 36,
     "metadata": {},
     "output_type": "execute_result"
    }
   ],
   "source": [
    "string+strin"
   ]
  },
  {
   "cell_type": "code",
   "execution_count": 37,
   "id": "86568091",
   "metadata": {},
   "outputs": [
    {
     "data": {
      "text/plain": [
       "'1234vinoth nagarajan'"
      ]
     },
     "execution_count": 37,
     "metadata": {},
     "output_type": "execute_result"
    }
   ],
   "source": [
    "hello+string"
   ]
  },
  {
   "cell_type": "code",
   "execution_count": 42,
   "id": "cb84213d",
   "metadata": {},
   "outputs": [
    {
     "name": "stdout",
     "output_type": "stream",
     "text": [
      "size4\n",
      "1\n",
      "2\n",
      "3\n",
      "4\n",
      "[2, 4, 7, 11]\n"
     ]
    }
   ],
   "source": [
    "listt=[]\n",
    "n =int(input(\"size\"))\n",
    "for i in range(0,n):\n",
    "    ele=int(input())\n",
    "    listt.append(ele)\n",
    "ssum=[listt[0]]+[1]*(len(listt)-1)\n",
    "for i in range(0,n):\n",
    "    ssum[i]=ssum[i-1]+listt[i]    \n",
    "print(ssum)    \n"
   ]
  },
  {
   "cell_type": "code",
   "execution_count": null,
   "id": "4754474c",
   "metadata": {},
   "outputs": [],
   "source": []
  },
  {
   "cell_type": "code",
   "execution_count": 2,
   "id": "59457526",
   "metadata": {},
   "outputs": [],
   "source": [
    "listt=[1,2,3,4,5]\n",
    "pre=[listt[0]]+[0]*(len(listt)-1) "
   ]
  },
  {
   "cell_type": "code",
   "execution_count": 44,
   "id": "23839d08",
   "metadata": {},
   "outputs": [
    {
     "data": {
      "text/plain": [
       "[1, 0, 0, 0, 0]"
      ]
     },
     "execution_count": 44,
     "metadata": {},
     "output_type": "execute_result"
    }
   ],
   "source": [
    "pre"
   ]
  },
  {
   "cell_type": "code",
   "execution_count": 68,
   "id": "1784c81e",
   "metadata": {},
   "outputs": [
    {
     "data": {
      "text/plain": [
       "[2, 2, 2, 2]"
      ]
     },
     "execution_count": 68,
     "metadata": {},
     "output_type": "execute_result"
    }
   ],
   "source": [
    "[2]*(len(listt)-1)"
   ]
  },
  {
   "cell_type": "code",
   "execution_count": 69,
   "id": "38484a37",
   "metadata": {},
   "outputs": [
    {
     "data": {
      "text/plain": [
       "4"
      ]
     },
     "execution_count": 69,
     "metadata": {},
     "output_type": "execute_result"
    }
   ],
   "source": [
    "(len(listt)-1)"
   ]
  },
  {
   "cell_type": "code",
   "execution_count": 4,
   "id": "6b9125d6",
   "metadata": {},
   "outputs": [],
   "source": [
    "#summ=[1]\n",
    "#summ[0]=summ[0-1]+listt[0] \n",
    "#1= +1\n",
    "#sum[1]=sum[1-1]+listt[1]\n",
    "#1=1+2=3\n",
    "#sum[2]=sum[2-1]+list[2]\n",
    "#2=3+3=6\n",
    "#3=6+4=10\n",
    "#4=10+5=15"
   ]
  },
  {
   "cell_type": "code",
   "execution_count": 5,
   "id": "91ecdf17",
   "metadata": {},
   "outputs": [],
   "source": [
    "listt=[1,2,3,4,5]"
   ]
  },
  {
   "cell_type": "code",
   "execution_count": 9,
   "id": "8ad4135e",
   "metadata": {},
   "outputs": [
    {
     "name": "stdout",
     "output_type": "stream",
     "text": [
      "[1, 3, 6, 10, 15]\n"
     ]
    }
   ],
   "source": [
    "listt=[1,2,3,4,5]\n",
    "for i in range(1,len(listt)):\n",
    "    listt[i]=listt[i-1]+listt[i]\n",
    "print(listt)    \n",
    "    \n"
   ]
  },
  {
   "cell_type": "code",
   "execution_count": 1,
   "id": "26b87dd9",
   "metadata": {},
   "outputs": [
    {
     "name": "stdout",
     "output_type": "stream",
     "text": [
      "enter3\n",
      "en float3.4\n",
      "num1 and num2 values as 3 + 3.4 = 6.4\n"
     ]
    }
   ],
   "source": [
    "num1=int(input(\"enter\"))\n",
    "num2=float(input(\"en float\"))\n",
    "print(\"num1 and num2 values as {} + {} = {}\".format(num1,num2,num1+num2))"
   ]
  },
  {
   "cell_type": "code",
   "execution_count": 10,
   "id": "5fabc798",
   "metadata": {},
   "outputs": [
    {
     "name": "stdout",
     "output_type": "stream",
     "text": [
      "enter3\n",
      "en float3.4\n",
      "num1 and num2 values as 3 + 3.4 = 6.4\n"
     ]
    },
    {
     "data": {
      "text/plain": [
       "3.0"
      ]
     },
     "execution_count": 10,
     "metadata": {},
     "output_type": "execute_result"
    }
   ],
   "source": [
    "num1=int(input(\"enter\"))\n",
    "num2=float(input(\"en float\"))\n",
    "print(\"num1 and num2 values as {} + {} = {}\".format(num1,num2,num1+num2))\n",
    "num1%num2"
   ]
  },
  {
   "cell_type": "code",
   "execution_count": 11,
   "id": "6d9e6621",
   "metadata": {},
   "outputs": [
    {
     "data": {
      "text/plain": [
       "'Hello world!'"
      ]
     },
     "execution_count": 11,
     "metadata": {},
     "output_type": "execute_result"
    }
   ],
   "source": [
    "#Print Hello world! :\n",
    "\n",
    "\"Hello world!\""
   ]
  },
  {
   "cell_type": "code",
   "execution_count": 7,
   "id": "618c4f30",
   "metadata": {},
   "outputs": [
    {
     "name": "stdout",
     "output_type": "stream",
     "text": [
      "enter the integer4\n",
      "enter the float4.4\n",
      "enter the string valueheloo\n",
      "4\n",
      "4.4\n",
      "True\n",
      "heloo\n"
     ]
    }
   ],
   "source": [
    "#Declare the following variables: Int, Float, Boolean, String & print its\n",
    "#value.\n",
    "\n",
    "num1=int(input(\"enter the integer\"))\n",
    "num2=float(input(\"enter the float\"))\n",
    "boolean=(6==6)\n",
    "string=str(input(\"enter the string value\"))\n",
    "print(num1)\n",
    "print(num2)\n",
    "print(boolean)\n",
    "print(string)"
   ]
  },
  {
   "cell_type": "code",
   "execution_count": 10,
   "id": "be051a35",
   "metadata": {},
   "outputs": [
    {
     "name": "stdout",
     "output_type": "stream",
     "text": [
      "enter the nu14\n",
      "enter the num25\n",
      "enter the num36\n",
      "area of trainagle 9.92\n"
     ]
    }
   ],
   "source": [
    "#Program to calculate the Area Of Triangle:\n",
    "num1=int(input(\"enter the nu1\"))\n",
    "num2=int(input(\"enter the num2\"))\n",
    "num3=int(input(\"enter the num3\"))\n",
    "s=(num1+num2+num3)/2\n",
    "area=(s*(s-num1)*(s-num2)*(s-num3))**0.5\n",
    "print(\"area of trainagle %0.2f\"%area)\n"
   ]
  },
  {
   "cell_type": "code",
   "execution_count": 18,
   "id": "bf3bcffc",
   "metadata": {},
   "outputs": [
    {
     "name": "stdout",
     "output_type": "stream",
     "text": [
      "6\n",
      "5\n"
     ]
    }
   ],
   "source": [
    "#Program to swap two variables:\n",
    "a=5\n",
    "b=6\n",
    "a,b=b,a\n",
    "print(a)\n",
    "print(b)\n"
   ]
  },
  {
   "cell_type": "code",
   "execution_count": 21,
   "id": "63f32904",
   "metadata": {},
   "outputs": [
    {
     "name": "stdout",
     "output_type": "stream",
     "text": [
      "enter the nu10\n",
      "zero\n"
     ]
    }
   ],
   "source": [
    "#Program is to check if a number is positive, negative or zero.\n",
    "num1=int(input(\"enter the nu1\"))\n",
    "if(num1>0):\n",
    "    print(\"postive\")\n",
    "elif(num1<0):\n",
    "    print('negative')\n",
    "else:\n",
    "    print(\"zero\")"
   ]
  },
  {
   "cell_type": "code",
   "execution_count": 23,
   "id": "ef22ed3f",
   "metadata": {},
   "outputs": [
    {
     "name": "stdout",
     "output_type": "stream",
     "text": [
      "enter the nu1 5\n",
      "odd\n"
     ]
    }
   ],
   "source": [
    "#Program is to check if a number is Even or Odd.\n",
    "num1=int(input(\"enter the nu1 \"))\n",
    "if(num1%2==0):\n",
    "    print(\"even\")\n",
    "else:\n",
    "    print(\"odd\")"
   ]
  },
  {
   "cell_type": "code",
   "execution_count": 8,
   "id": "8500c314",
   "metadata": {},
   "outputs": [
    {
     "name": "stdout",
     "output_type": "stream",
     "text": [
      "enter the number7\n",
      "5040\n"
     ]
    }
   ],
   "source": [
    "#Python program to find the factorial of a number.\n",
    "n=int(input(\"enter the number\"))\n",
    "fact=1\n",
    "if n>=1:\n",
    "    for i in range(1,n+1):\n",
    "        fact=fact*i\n",
    "print(fact)        \n"
   ]
  },
  {
   "cell_type": "code",
   "execution_count": 9,
   "id": "25ba5850",
   "metadata": {},
   "outputs": [
    {
     "data": {
      "text/plain": [
       "5040"
      ]
     },
     "execution_count": 9,
     "metadata": {},
     "output_type": "execute_result"
    }
   ],
   "source": [
    "6*5*4*3*2*1*7\n"
   ]
  },
  {
   "cell_type": "code",
   "execution_count": 23,
   "id": "ced00f05",
   "metadata": {},
   "outputs": [
    {
     "data": {
      "text/plain": [
       "4276"
      ]
     },
     "execution_count": 23,
     "metadata": {},
     "output_type": "execute_result"
    }
   ],
   "source": [
    "#Program to reverse a given number.\n",
    "\n",
    "num=\"6724\"\n",
    "num=num[::-1]\n",
    "int(num)"
   ]
  },
  {
   "cell_type": "code",
   "execution_count": 21,
   "id": "494ded88",
   "metadata": {},
   "outputs": [
    {
     "name": "stdout",
     "output_type": "stream",
     "text": [
      "8765\n"
     ]
    }
   ],
   "source": [
    "num=5678\n",
    "rev=0\n",
    "while num>0:\n",
    "    digit=num%10 # 8 , 7,6, 5\n",
    "    rev=(rev*10)+digit  # 8*10=80+7=87 # 87*10 =870+6=876 # 876*10 =8760 +5 =8765\n",
    "    num= num//10\n",
    "print(rev)    "
   ]
  },
  {
   "cell_type": "code",
   "execution_count": 37,
   "id": "6d868b33",
   "metadata": {},
   "outputs": [
    {
     "data": {
      "text/plain": [
       "21"
      ]
     },
     "execution_count": 37,
     "metadata": {},
     "output_type": "execute_result"
    }
   ],
   "source": [
    "#Program to find out the sum of N Natural numbers.\n",
    "n=6\n",
    "summ=0\n",
    "for i in range(1,n+1):\n",
    "    summ+=i\n",
    "summ    \n",
    "    "
   ]
  },
  {
   "cell_type": "code",
   "execution_count": 35,
   "id": "32af5eb5",
   "metadata": {},
   "outputs": [
    {
     "data": {
      "text/plain": [
       "21"
      ]
     },
     "execution_count": 35,
     "metadata": {},
     "output_type": "execute_result"
    }
   ],
   "source": [
    "1+2+3+4+5+6"
   ]
  },
  {
   "cell_type": "code",
   "execution_count": 38,
   "id": "24953ec2",
   "metadata": {},
   "outputs": [
    {
     "data": {
      "text/plain": [
       "'oooleh'"
      ]
     },
     "execution_count": 38,
     "metadata": {},
     "output_type": "execute_result"
    }
   ],
   "source": [
    "#Program to reverse a string.\n",
    "string=\"helooo\"\n",
    "string[::-1]"
   ]
  },
  {
   "cell_type": "code",
   "execution_count": 40,
   "id": "2e2421a1",
   "metadata": {},
   "outputs": [
    {
     "name": "stdout",
     "output_type": "stream",
     "text": [
      "helooo\n",
      "helooo not a palindrome\n"
     ]
    }
   ],
   "source": [
    "#Program to check if string is palindrome or not:\n",
    "string=str(input())\n",
    "if string==string[::-1]:\n",
    "    print(string,\"is a palindrome\")\n",
    "else:\n",
    "    print(string,\"not a palindrome\")"
   ]
  },
  {
   "cell_type": "code",
   "execution_count": 12,
   "id": "cec9741c",
   "metadata": {},
   "outputs": [
    {
     "name": "stdout",
     "output_type": "stream",
     "text": [
      "hsdjafkdwahagdjavfdawfafaawaaa\n"
     ]
    },
    {
     "data": {
      "text/plain": [
       "'hsdj$fkdw$h$gdj$vfd$wf$f$$w$$$'"
      ]
     },
     "execution_count": 12,
     "metadata": {},
     "output_type": "execute_result"
    }
   ],
   "source": [
    "#Python Program to Replace all Occurrences of ‘a’ with $ in a String from\n",
    "#user:\n",
    "string=str(input())\n",
    "string.replace('a','$')  "
   ]
  },
  {
   "cell_type": "code",
   "execution_count": 13,
   "id": "05cfaf24",
   "metadata": {},
   "outputs": [
    {
     "name": "stdout",
     "output_type": "stream",
     "text": [
      "vinoth nagarajan\n",
      "6\n"
     ]
    }
   ],
   "source": [
    "# Python Program to Count the Number of Vowels in a String Input Two\n",
    "# Strings and Display the Larger String without Using Built-in Functions:\n",
    "\n",
    "string=str(input())\n",
    "count=0\n",
    "for char in string:\n",
    "    if char in 'aeiouAEIOU':\n",
    "        count=count+1\n",
    "print(count)    "
   ]
  },
  {
   "cell_type": "code",
   "execution_count": 14,
   "id": "4272c90f",
   "metadata": {},
   "outputs": [
    {
     "name": "stdout",
     "output_type": "stream",
     "text": [
      "hello\n",
      "hai\n",
      "string1 is larger\n"
     ]
    }
   ],
   "source": [
    "#Input Two\n",
    "# Strings and Display the Larger String without Using Built-in Functions:\n",
    "string1=str(input())\n",
    "string2=str(input())\n",
    "len1=len(string1)\n",
    "len2=len(string2)\n",
    "if(len1>len2):\n",
    "    print(\"string1 is larger\")\n",
    "else:\n",
    "    print(\"string2 is larger\")"
   ]
  },
  {
   "cell_type": "code",
   "execution_count": 15,
   "id": "113def70",
   "metadata": {},
   "outputs": [
    {
     "name": "stdout",
     "output_type": "stream",
     "text": [
      "4\n",
      "6\n"
     ]
    }
   ],
   "source": [
    "#Count the number of digits & letter in a string:\n",
    "string1='luckky3000'\n",
    "digit=0\n",
    "letters=0\n",
    "for i in string1:\n",
    "    if i.isdigit():\n",
    "        digit=digit+1\n",
    "    else:\n",
    "          letters=letters+1\n",
    "print(digit)\n",
    "print(letters)\n",
    "    \n"
   ]
  },
  {
   "cell_type": "code",
   "execution_count": 17,
   "id": "ad69c3ee",
   "metadata": {},
   "outputs": [
    {
     "name": "stdout",
     "output_type": "stream",
     "text": [
      "4\n"
     ]
    }
   ],
   "source": [
    "#Count Number of Lowercase Characters in a String:#\n",
    "\n",
    "string1='lucKKy3000'\n",
    "lower=0\n",
    "for i in string1:\n",
    "    if i.islower():\n",
    "        lower=lower+1\n",
    "print(lower)        "
   ]
  },
  {
   "cell_type": "code",
   "execution_count": 18,
   "id": "a23e480d",
   "metadata": {},
   "outputs": [
    {
     "name": "stdout",
     "output_type": "stream",
     "text": [
      "good present\n"
     ]
    }
   ],
   "source": [
    "#Program to check if a Substring is Present in a Given String:\n",
    "string=\"luckky is good\"\n",
    "sub=\"good\"\n",
    "if sub in string:\n",
    "    print(sub,\"present\")\n",
    "else:\n",
    "    print(sub,'noo')"
   ]
  },
  {
   "cell_type": "code",
   "execution_count": 19,
   "id": "35e92e53",
   "metadata": {},
   "outputs": [
    {
     "name": "stdout",
     "output_type": "stream",
     "text": [
      "h->0\n",
      "e->1\n",
      "l->2\n",
      "l->3\n",
      "o->4\n"
     ]
    }
   ],
   "source": [
    "string=\"hello\"\n",
    "index=0\n",
    "while index<len(string):\n",
    "    print(\"{}->{}\".format(string[index],index))\n",
    "    index+=1"
   ]
  },
  {
   "cell_type": "code",
   "execution_count": 21,
   "id": "6ed96e02",
   "metadata": {},
   "outputs": [
    {
     "name": "stdout",
     "output_type": "stream",
     "text": [
      "L ->0\n",
      "u ->1\n",
      "c ->2\n",
      "k ->3\n",
      "k ->4\n",
      "y ->5\n",
      "3 ->7\n",
      "0 ->8\n",
      "0 ->9\n",
      "0 ->10\n"
     ]
    }
   ],
   "source": [
    "string=\"luckky 3000 \"\n",
    "index=0\n",
    "while index<len(string):\n",
    "    if index==0:\n",
    "        print(\"{} ->{}\".format(string[index].upper(),index))\n",
    "    elif string[index]!=' ':\n",
    "        print(\"{} ->{}\".format(string[index],index))\n",
    "    index+=1        "
   ]
  },
  {
   "cell_type": "code",
   "execution_count": 23,
   "id": "715b3bfa",
   "metadata": {},
   "outputs": [
    {
     "name": "stdout",
     "output_type": "stream",
     "text": [
      "enter 8\n",
      "8 is a fibbonacii\n"
     ]
    }
   ],
   "source": [
    "#to check fibonacii series or not\n",
    "import math\n",
    "def perfectsquare(num):\n",
    "    s=int(math.sqrt(num))\n",
    "    return s*s==num\n",
    "def fiboo(num):\n",
    "    if perfectsquare(5*(num**2)+4) or perfectsquare(5*(num**2)-4):\n",
    "        return True\n",
    "    else:\n",
    "        return False\n",
    "num=int(input(\"enter \"))\n",
    "if fiboo(num):\n",
    "    print(num,\"is a fibbonacii\")\n",
    "else:\n",
    "    print(num,\"is not fibbonacii\")\n"
   ]
  },
  {
   "cell_type": "code",
   "execution_count": 24,
   "id": "9a636c83",
   "metadata": {},
   "outputs": [
    {
     "data": {
      "text/plain": [
       "False"
      ]
     },
     "execution_count": 24,
     "metadata": {},
     "output_type": "execute_result"
    }
   ],
   "source": [
    "\n",
    "perfectsquare(5*(5**2)+4)"
   ]
  },
  {
   "cell_type": "code",
   "execution_count": 25,
   "id": "d1315925",
   "metadata": {},
   "outputs": [
    {
     "data": {
      "text/plain": [
       "129"
      ]
     },
     "execution_count": 25,
     "metadata": {},
     "output_type": "execute_result"
    }
   ],
   "source": [
    "5*(5**2)+4  "
   ]
  },
  {
   "cell_type": "code",
   "execution_count": 16,
   "id": "d530f4f1",
   "metadata": {},
   "outputs": [
    {
     "data": {
      "text/plain": [
       "121"
      ]
     },
     "execution_count": 16,
     "metadata": {},
     "output_type": "execute_result"
    }
   ],
   "source": [
    "5*(5**2)-4 "
   ]
  },
  {
   "cell_type": "code",
   "execution_count": 28,
   "id": "ac16adce",
   "metadata": {},
   "outputs": [],
   "source": [
    "num=121\n",
    "s= int(math.sqrt(129))  #because int will remove decimal values so 11 or else 11.00\n",
    "11*11==121 ? yes\n",
    "\n",
    "perfectsquare(5*(5**2)-4 = 121 #we are passing 121 to perfectsqaure number\n",
    "              \n",
    "yes 5 is a fiboonacsii              "
   ]
  },
  {
   "cell_type": "code",
   "execution_count": 19,
   "id": "4e5805ee",
   "metadata": {},
   "outputs": [
    {
     "data": {
      "text/plain": [
       "11.0"
      ]
     },
     "execution_count": 19,
     "metadata": {},
     "output_type": "execute_result"
    }
   ],
   "source": [
    "math.sqrt(121)"
   ]
  },
  {
   "cell_type": "code",
   "execution_count": 18,
   "id": "a05a2b45",
   "metadata": {},
   "outputs": [
    {
     "data": {
      "text/plain": [
       "121"
      ]
     },
     "execution_count": 18,
     "metadata": {},
     "output_type": "execute_result"
    }
   ],
   "source": [
    "11*11"
   ]
  },
  {
   "cell_type": "code",
   "execution_count": 14,
   "id": "d68d16aa",
   "metadata": {},
   "outputs": [
    {
     "name": "stdout",
     "output_type": "stream",
     "text": [
      "python\n",
      "org\n",
      "is\n",
      "good\n"
     ]
    }
   ],
   "source": [
    "string =\"python org is good\"\n",
    "start=0\n",
    "end=0\n",
    "while(end<len(string)):\n",
    "    if string[end]==' ':\n",
    "        print(string[start:end])\n",
    "        start=end+1\n",
    "    elif end==len(string)-1:\n",
    "        print(string[start:end+1])\n",
    "    end+=1   "
   ]
  },
  {
   "cell_type": "code",
   "execution_count": 17,
   "id": "47fafda3",
   "metadata": {},
   "outputs": [
    {
     "name": "stdout",
     "output_type": "stream",
     "text": [
      "enter 11\n",
      "exit\n"
     ]
    }
   ],
   "source": [
    "# 1. W. A P. which takes one number from 0 to 9 from the user and prints it\n",
    "# in the word. And if the word is not from 0 to 9 then it should print that\n",
    "# number is outside of the range and program should exit.\n",
    "#  For example:-\n",
    "#  input = 1\n",
    "#  output =one\n",
    "dictt={1:'one',2:'two',3:'three',4:'four',5:'five',6:'six',7:'seven',8:'eight',9:'nine',0:'zero'}\n",
    "user=int(input(\"enter \"))\n",
    "if user>=0 and user<10:\n",
    "    for k,v in dictt.items():\n",
    "        if k==user:\n",
    "            print(v)\n",
    "else:\n",
    "    print(\"exit\")\n",
    "            \n"
   ]
  },
  {
   "cell_type": "code",
   "execution_count": 20,
   "id": "f80cddb2",
   "metadata": {},
   "outputs": [
    {
     "name": "stdout",
     "output_type": "stream",
     "text": [
      "enter 8\n",
      "enter 6\n",
      "+,-,/,*4\n",
      "1.3333333333333333\n"
     ]
    }
   ],
   "source": [
    "# 2. W. A P. to implement calculator but the operation to be done and two\n",
    "# numbers will be taken as input from user:- Operation console should\n",
    "# show below:-\n",
    "\n",
    "# Please select any one operation from below:-\n",
    "\n",
    "# 1. To add enter 1\n",
    "# 2. to subtract enter 2\n",
    "# 3. To multiply enter 3\n",
    "# 4. To divide enter 4\n",
    "# 5. To divide and find quotient enter 5\n",
    "# 6. To divide and find remainder enter 6\n",
    "# 7. To find num1 to the power of num2 enter 7\n",
    "# 8. To Come out of the program enter 8\n",
    "\n",
    "user=int(input(\"enter \"))\n",
    "user1=int(input(\"enter \"))\n",
    "operation=int(input(\"+,-,/,*\"))\n",
    "if operation<7 and operation > 0:\n",
    "    if operation== 1:\n",
    "        print(user+user1)\n",
    "    elif operation==2:\n",
    "        print(user-user1)\n",
    "    elif operation==3:\n",
    "        print(user*user1)\n",
    "    elif operation==4:\n",
    "        print(user/user1)\n",
    "    elif operation==5:\n",
    "        print(user%user1)\n",
    "    elif operation==6:\n",
    "        print(user**user1)\n",
    "else:\n",
    "    print(\"come out\")\n"
   ]
  },
  {
   "cell_type": "code",
   "execution_count": 22,
   "id": "fe1c32e3",
   "metadata": {},
   "outputs": [
    {
     "name": "stdout",
     "output_type": "stream",
     "text": [
      "6\n"
     ]
    }
   ],
   "source": [
    "# Write a Python program to find the length of the my_str using loop\n",
    "#  Input:- 'Write a Python program to find the length of the my_str'\n",
    "#  Output:- 55\n",
    "\n",
    "string=\"hello1\"\n",
    "count=0\n",
    "for i in string:\n",
    "    count+=1\n",
    "print(count)    "
   ]
  },
  {
   "cell_type": "code",
   "execution_count": 28,
   "id": "f154a10c",
   "metadata": {},
   "outputs": [
    {
     "name": "stdout",
     "output_type": "stream",
     "text": [
      "9\n"
     ]
    }
   ],
   "source": [
    "# Write a Python program to find the total number of times letter 'p' is\n",
    "# appeared in the below string using loop:-\n",
    "#  Input:- 'peter piper picked a peck of pickled peppers.\\n'\n",
    "#  Output:- 9\n",
    "\n",
    "string='peter piper picked a peck of pickled peppers.\\n'\n",
    "print(string.count('p'))   \n",
    "    "
   ]
  },
  {
   "cell_type": "code",
   "execution_count": 11,
   "id": "d7025e2e",
   "metadata": {},
   "outputs": [
    {
     "name": "stdout",
     "output_type": "stream",
     "text": [
      "0\n",
      "6\n",
      "8\n",
      "12\n",
      "21\n",
      "29\n",
      "37\n",
      "39\n",
      "40\n"
     ]
    }
   ],
   "source": [
    "# 9. Q. Write a Python Program, to print all the indexes of all occurrences of\n",
    "# letter 'p' appeared in the string using loop:-\n",
    "#  Input: - 'peter piper picked a peck of pickled peppers.'\n",
    "#  Output:-\n",
    "#  0\n",
    "#  6\n",
    "#  8\n",
    "#  12\n",
    "#  21\n",
    "#  29\n",
    "#  37\n",
    "#  39\n",
    "#  40\n",
    "\n",
    "string='peter piper picked a peck of pickled peppers.\\n'\n",
    "ch='p'\n",
    "for i in range(len(string)):\n",
    "       if ch==string[i]:\n",
    "            print(i)\n"
   ]
  },
  {
   "cell_type": "code",
   "execution_count": 22,
   "id": "94916ce1",
   "metadata": {},
   "outputs": [
    {
     "name": "stdout",
     "output_type": "stream",
     "text": [
      "['peter', 'piper', 'picked', 'a', 'peck', 'of', 'pickled', 'peppers.']\n"
     ]
    }
   ],
   "source": [
    "# Write a python program to find below output using loop:-\n",
    "#  Input: - 'peter piper picked a peck of pickled peppers.'\n",
    "#  Output:- ['peter', 'piper', 'picked', 'a', 'peck', 'of', 'pickled',\n",
    "# 'peppers']\n",
    "listt=[]\n",
    "string='peter piper picked a peck of pickled peppers.'\n",
    "for i in string:\n",
    "    listt.append(i)\n",
    "hmm=''.join(listt)    \n",
    "print(hmm.split(' ')) \n"
   ]
  },
  {
   "cell_type": "code",
   "execution_count": 39,
   "id": "e3e3ecf7",
   "metadata": {},
   "outputs": [
    {
     "name": "stdout",
     "output_type": "stream",
     "text": [
      "peppers. pickled of peck a picked piper peter\n"
     ]
    }
   ],
   "source": [
    "# Write a python program to find below output using loop:-\n",
    "#  Input: - 'peter piper picked a peck of pickled peppers.'\n",
    "#  Output:- 'peppers pickled of peck a picked piper peter'\n",
    "string='peter piper picked a peck of pickled peppers.'\n",
    "print(' '.join(reversed(string.split())))\n",
    "    "
   ]
  },
  {
   "cell_type": "code",
   "execution_count": 4,
   "id": "fdedb45f",
   "metadata": {},
   "outputs": [
    {
     "name": "stdout",
     "output_type": "stream",
     "text": [
      "Method 1: Output:- peppers pickled of peck a picked piper peter\n"
     ]
    }
   ],
   "source": [
    "mystr = 'peter piper picked a peck of pickled peppers.'\n",
    "mystr = mystr[:len(mystr) - 1]\n",
    "i = len(mystr) - 1\n",
    "last_indx = len(mystr)\n",
    "newstr = []\n",
    "while i >= 0:\n",
    "    if mystr[i] == ' ':\n",
    "        newstr.append(mystr[i+1 : last_indx ])\n",
    "        last_indx = i\n",
    "    elif i == 0:  \n",
    "        newstr.append(mystr[i : last_indx ])\n",
    "    i = i - 1\n",
    "print('Method 1: Output:- {}'.format(\" \".join(newstr)))"
   ]
  },
  {
   "cell_type": "code",
   "execution_count": 5,
   "id": "2733d952",
   "metadata": {},
   "outputs": [
    {
     "data": {
      "text/plain": [
       "'peter piper picked a peck of pickled pepper'"
      ]
     },
     "execution_count": 5,
     "metadata": {},
     "output_type": "execute_result"
    }
   ],
   "source": [
    "mystr = mystr[:len(mystr) - 1]\n",
    "mystr"
   ]
  },
  {
   "cell_type": "code",
   "execution_count": 6,
   "id": "406f2a83",
   "metadata": {},
   "outputs": [
    {
     "data": {
      "text/plain": [
       "42"
      ]
     },
     "execution_count": 6,
     "metadata": {},
     "output_type": "execute_result"
    }
   ],
   "source": [
    "i = len(mystr) - 1\n",
    "i"
   ]
  },
  {
   "cell_type": "code",
   "execution_count": 7,
   "id": "bda9a790",
   "metadata": {},
   "outputs": [
    {
     "data": {
      "text/plain": [
       "43"
      ]
     },
     "execution_count": 7,
     "metadata": {},
     "output_type": "execute_result"
    }
   ],
   "source": [
    "last_indx = len(mystr)\n",
    "last_indx"
   ]
  },
  {
   "cell_type": "code",
   "execution_count": 9,
   "id": "edfb73bc",
   "metadata": {},
   "outputs": [
    {
     "name": "stdout",
     "output_type": "stream",
     "text": [
      "['pepper', 'pickled', 'of', 'peck', 'a', 'picked', 'piper']\n"
     ]
    }
   ],
   "source": [
    "newstr = []\n",
    "\n",
    "while i >= 0:\n",
    "    if mystr[i] == ' ':\n",
    "        newstr.append(mystr[i+1 : last_indx ])\n",
    "        last_indx = i\n",
    "    i = i - 1        \n",
    "print(newstr)        "
   ]
  },
  {
   "cell_type": "code",
   "execution_count": 10,
   "id": "1af6d13a",
   "metadata": {},
   "outputs": [
    {
     "data": {
      "text/plain": [
       "'.sreppep delkcip fo kcep a dekcip repip retep'"
      ]
     },
     "execution_count": 10,
     "metadata": {},
     "output_type": "execute_result"
    }
   ],
   "source": [
    "# Write a python program to find below output using loop:-\n",
    "#  Input: - 'peter piper picked a peck of pickled peppers.'\n",
    "#  Output:- '.sreppep delkcip fo kcep a dekcip repip retep'\n",
    "string='peter piper picked a peck of pickled peppers.'\n",
    "string[::-1]\n"
   ]
  },
  {
   "cell_type": "code",
   "execution_count": 17,
   "id": "e5fbedd7",
   "metadata": {},
   "outputs": [
    {
     "name": "stdout",
     "output_type": "stream",
     "text": [
      "retep repip dekcip a kcep fo delkcip .sreppep\n"
     ]
    }
   ],
   "source": [
    "# 13.Write a python program to find below output using loop:-\n",
    "#  Input: - 'peter piper picked a peck of pickled peppers.'\n",
    "#  Output:- 'retep repip dekcip a kcep fo delkcip sreppep'\n",
    "string='peter piper picked a peck of pickled peppers.'\n",
    "str=[x[::-1] for x in string.split(' ')]\n",
    "print(\" \".join(str))"
   ]
  },
  {
   "cell_type": "code",
   "execution_count": 30,
   "id": "2f37f126",
   "metadata": {},
   "outputs": [
    {
     "name": "stdout",
     "output_type": "stream",
     "text": [
      "retep repip dekcip a kcep fo delkcip .sreppep\n"
     ]
    }
   ],
   "source": [
    "current=0\n",
    "last=0\n",
    "st=[]\n",
    "while(last<len(string)):\n",
    "    if string[last]==' ':\n",
    "        st.append(string[current:last][::-1])\n",
    "        current=last+1\n",
    "    elif(last==len(string)-1):\n",
    "        st.append(string[current:last+1][::-1])\n",
    "    last+=1\n",
    "print(\" \".join(st))   "
   ]
  },
  {
   "cell_type": "code",
   "execution_count": 31,
   "id": "7eed3c68",
   "metadata": {},
   "outputs": [
    {
     "data": {
      "text/plain": [
       "'Peter Piper Picked A Peck Of Pickled Peppers.'"
      ]
     },
     "execution_count": 31,
     "metadata": {},
     "output_type": "execute_result"
    }
   ],
   "source": [
    "# 14.Write a python program to find below output using loop:-\n",
    "#  Input: - 'peter piper picked a peck of pickled peppers.'\n",
    "\n",
    "#  Output:- 'Peter Piper Picked A Peck Of Pickled Peppers'\n",
    "string='peter piper picked a peck of pickled peppers.'\n",
    "string.title()"
   ]
  },
  {
   "cell_type": "code",
   "execution_count": 4,
   "id": "d82a6801",
   "metadata": {},
   "outputs": [
    {
     "name": "stdout",
     "output_type": "stream",
     "text": [
      "peter piper picked a peck of pickled peppers.\n"
     ]
    }
   ],
   "source": [
    "# 15.Write a python program to find below output using loop:-\n",
    "#  Input: - 'Peter Piper Picked A Peck Of Pickled Peppers.'\n",
    "#  Output:- 'Peter piper picked a peck of pickled peppers'\n",
    "string='Peter Piper Picked A Peck Of Pickled Peppers.'\n",
    "listt=[i[0].lower() for i in string]\n",
    "print(\"\".join(listt))"
   ]
  },
  {
   "cell_type": "code",
   "execution_count": 6,
   "id": "5f7e07a5",
   "metadata": {},
   "outputs": [
    {
     "data": {
      "text/plain": [
       "29"
      ]
     },
     "execution_count": 6,
     "metadata": {},
     "output_type": "execute_result"
    }
   ],
   "source": [
    "# 16.Write a python program to implement index method using loop. If\n",
    "# sub_str is found in my_str then it will print the index of first occurrence\n",
    "# of first character of matching string in my_str:-\n",
    "#  Input: - my_str = 'Peter Piper Picked A Peck Of Pickled Peppers.',\n",
    "#  sub_str = 'Pickl'\n",
    "#  Output:- 29\n",
    "my_str = 'Peter Piper Picked A Peck Of Pickled Peppers.'\n",
    "sub_str = 'Pickl'\n",
    "my_str.index(sub_str)"
   ]
  },
  {
   "cell_type": "code",
   "execution_count": 3,
   "id": "59107336",
   "metadata": {},
   "outputs": [
    {
     "data": {
      "text/plain": [
       "29"
      ]
     },
     "execution_count": 3,
     "metadata": {},
     "output_type": "execute_result"
    }
   ],
   "source": [
    "mystr = 'Peter Piper Picked A Peck Of Pickled Peppers.'\n",
    "sub_str = 'Pickl'\n",
    "#print('Input:- {}'.format(mystr))\n",
    "i = 0\n",
    "from_indx = 0\n",
    "newstr = ''\n",
    "while i < len(mystr):\n",
    "    if sub_str == mystr[i:i+len(sub_str)]:\n",
    "# return index of first character\n",
    "# print(i)\n",
    "        break\n",
    "    i += 1\n",
    "i"
   ]
  },
  {
   "cell_type": "code",
   "execution_count": 9,
   "id": "7d20d9be",
   "metadata": {},
   "outputs": [
    {
     "data": {
      "text/plain": [
       "5"
      ]
     },
     "execution_count": 9,
     "metadata": {},
     "output_type": "execute_result"
    }
   ],
   "source": [
    "len(sub_str)\n",
    "  "
   ]
  },
  {
   "cell_type": "code",
   "execution_count": 13,
   "id": "8f02d6b3",
   "metadata": {},
   "outputs": [],
   "source": []
  },
  {
   "cell_type": "code",
   "execution_count": null,
   "id": "ef7f751e",
   "metadata": {},
   "outputs": [],
   "source": []
  },
  {
   "cell_type": "code",
   "execution_count": null,
   "id": "ad204761",
   "metadata": {},
   "outputs": [],
   "source": []
  },
  {
   "cell_type": "code",
   "execution_count": null,
   "id": "5794662e",
   "metadata": {},
   "outputs": [],
   "source": []
  }
 ],
 "metadata": {
  "kernelspec": {
   "display_name": "Python 3 (ipykernel)",
   "language": "python",
   "name": "python3"
  },
  "language_info": {
   "codemirror_mode": {
    "name": "ipython",
    "version": 3
   },
   "file_extension": ".py",
   "mimetype": "text/x-python",
   "name": "python",
   "nbconvert_exporter": "python",
   "pygments_lexer": "ipython3",
   "version": "3.11.5"
  }
 },
 "nbformat": 4,
 "nbformat_minor": 5
}
